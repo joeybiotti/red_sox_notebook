{
 "cells": [
  {
   "cell_type": "markdown",
   "metadata": {},
   "source": [
    "# Red Sox Notebook\n",
    "\n",
    "This notebook explores the data of Red Sox players from 1908 to 2020, including visualizations and analyses of various player statistics."
   ]
  },
  {
   "cell_type": "markdown",
   "metadata": {},
   "source": [
    "## Data Loading"
   ]
  },
  {
   "cell_type": "code",
   "execution_count": null,
   "metadata": {},
   "outputs": [],
   "source": [
    "import pandas as pd \n",
    "\n",
    "# Load the clean data\n",
    "red_sox_data = pd.read_csv('../data/cleaned/Boston_Red_Sox_Roster_Data_cleaned.csv')\n",
    "\n",
    "# Display the first few rows of the dataset\n",
    "print(red_sox_data.head())"
   ]
  },
  {
   "cell_type": "markdown",
   "metadata": {},
   "source": [
    "## Data Analysis"
   ]
  },
  {
   "cell_type": "markdown",
   "metadata": {},
   "source": [
    "### List of Red Sox Hall of Famers\n",
    "\n",
    "The following code lists all the Red Sox players who have been inducted into the Hall of Fame."
   ]
  },
  {
   "cell_type": "code",
   "execution_count": null,
   "metadata": {},
   "outputs": [],
   "source": [
    "# Filter the DataFrame to get all records where 'HOF' is 'Yes'\n",
    "hof_players = red_sox_data[red_sox_data['HOF'] == 'Yes']\n",
    "\n",
    "# Print the distinct names of Hall of Fame players\n",
    "distinct_hof_players = hof_players['Name'].drop_duplicates().reset_index(drop=True)\n",
    "print(distinct_hof_players)"
   ]
  },
  {
   "cell_type": "markdown",
   "metadata": {},
   "source": [
    "### Count and List of Red Sox All Stars\n",
    "\n",
    "The following code gives thet total and lists all Red Sox players who have appeared in an All Star Game"
   ]
  },
  {
   "cell_type": "code",
   "execution_count": null,
   "metadata": {},
   "outputs": [],
   "source": [
    "all_stars = red_sox_data[red_sox_data['All-Star'] == 'Yes']\n",
    "print(\"Total All Stars: \", all_stars['Name'].nunique(),'\\n')\n",
    "\n",
    "distinct_all_stars = all_stars['Name'].drop_duplicates().reset_index(drop=True)\n",
    "print('Red Sox All Stars:\\n',distinct_all_stars)"
   ]
  },
  {
   "cell_type": "markdown",
   "metadata": {},
   "source": [
    "### Count of Red Sox Players by Country\n",
    "\n",
    "The following code provides all distinct countries where Red Sox players have been born, as well as a count of distinct players per country."
   ]
  },
  {
   "cell_type": "code",
   "execution_count": null,
   "metadata": {},
   "outputs": [],
   "source": [
    "countries = red_sox_data['Born'].unique()\n",
    "print(countries)\n",
    "\n",
    "countries_count = red_sox_data['Born'].value_counts()\n",
    "print(countries_count)"
   ]
  },
  {
   "cell_type": "markdown",
   "metadata": {},
   "source": [
    "### Average Age of Red Sox Player by Decade\n",
    "\n",
    "The following code calculates the average age of a Red Sox player and groups by decdade."
   ]
  },
  {
   "cell_type": "code",
   "execution_count": null,
   "metadata": {},
   "outputs": [],
   "source": [
    "import math\n",
    "\n",
    "decades=(red_sox_data['Season']//10)*10\n",
    "\n",
    "avg_age_by_decade = red_sox_data.groupby(decades)['Age'].mean()\n",
    "avg_age_by_decade_rounded_up = avg_age_by_decade.apply(math.ceil)\n",
    "avg_age_by_decade_rounded_up_sorted = avg_age_by_decade_rounded_up.sort_values(ascending=False)\n",
    "\n",
    "\n",
    "print(avg_age_by_decade_rounded_up_sorted)"
   ]
  },
  {
   "cell_type": "markdown",
   "metadata": {},
   "source": [
    "### World Series Player Statistics\n",
    "\n",
    "The following code calculates and prints the average age of Red Sox players who have won the World Series, rounded up, and grouped by season."
   ]
  },
  {
   "cell_type": "code",
   "execution_count": null,
   "metadata": {},
   "outputs": [],
   "source": [
    "import math \n",
    "\n",
    "world_series_winners = red_sox_data[red_sox_data['Season'].isin([1903, 1912, 1915, 1916, 1918, 2004, 2007, 2013, 2018])]\n",
    "\n",
    "print('World Series Winners:\\n', world_series_winners[['Name', 'Season', 'Age', 'Born', 'All-Star', 'HOF']])\n",
    "\n",
    "print('Number of Red Sox Player that have won the World Series:\\n', world_series_winners['Name'].nunique(),'\\n')\n",
    "print('Average Age of Red Sox Players that have won the World Series (rounded up):\\n', math.ceil(world_series_winners['Age'].mean()),'\\n')\n",
    "\n",
    "world_series_winners['Age'] = world_series_winners['Age'].apply(math.ceil)\n",
    "avg_age_by_season = world_series_winners.groupby('Season')['Age'].mean()\n",
    "print('Average Age of Red Sox Players that have won the World Series by Season (rounded up):\\n', avg_age_by_season)"
   ]
  },
  {
   "cell_type": "markdown",
   "metadata": {},
   "source": [
    "### **Performance Trends**"
   ]
  },
  {
   "cell_type": "markdown",
   "metadata": {},
   "source": [
    "1. <u>Average WAR by Season</u>"
   ]
  },
  {
   "cell_type": "code",
   "execution_count": null,
   "metadata": {},
   "outputs": [],
   "source": [
    "red_sox_data['WAR'] = pd.to_numeric(red_sox_data['WAR'], errors='coerce')\n",
    "\n",
    "avg_war = red_sox_data.groupby('Season')['WAR'].mean()\n",
    "print('Average WAR per Season\\n',avg_war)"
   ]
  },
  {
   "cell_type": "markdown",
   "metadata": {},
   "source": [
    "## Visualizations"
   ]
  },
  {
   "cell_type": "code",
   "execution_count": null,
   "metadata": {},
   "outputs": [],
   "source": [
    "import os\n",
    "\n",
    "os.chdir('/Users/joeybiotti/Workspace/red_sox_notebook/notebooks')\n",
    "\n",
    "print(os.getcwd())\n",
    "\n",
    "%run ../scripts/visualization.py"
   ]
  }
 ],
 "metadata": {
  "kernelspec": {
   "display_name": ".venv",
   "language": "python",
   "name": "python3"
  },
  "language_info": {
   "codemirror_mode": {
    "name": "ipython",
    "version": 3
   },
   "file_extension": ".py",
   "mimetype": "text/x-python",
   "name": "python",
   "nbconvert_exporter": "python",
   "pygments_lexer": "ipython3",
   "version": "3.8.1"
  }
 },
 "nbformat": 4,
 "nbformat_minor": 2
}
