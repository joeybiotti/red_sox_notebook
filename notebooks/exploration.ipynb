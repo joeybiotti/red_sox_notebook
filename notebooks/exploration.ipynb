{
 "cells": [
  {
   "cell_type": "code",
   "execution_count": null,
   "metadata": {},
   "outputs": [],
   "source": [
    "import pandas as pd \n",
    "\n",
    "red_sox_data = pd.read_csv('../data/raw/Boston_Red_Sox_Roster_Data.csv')\n",
    "\n",
    "print(red_sox_data.head())"
   ]
  },
  {
   "cell_type": "markdown",
   "metadata": {},
   "source": [
    "# **Basic Data Points**"
   ]
  },
  {
   "cell_type": "markdown",
   "metadata": {},
   "source": [
    "1. <u>List of Red Sox Hall of Famers</u>"
   ]
  },
  {
   "cell_type": "code",
   "execution_count": null,
   "metadata": {},
   "outputs": [],
   "source": [
    "\n",
    "hof_players = red_sox_data[red_sox_data['HOF'] == 'Yes']\n",
    "print('Total Hall of Fame Players:', hof_players['Name'].nunique(),'\\n')\n",
    "\n",
    "distinct_hof_players = hof_players['Name'].drop_duplicates().reset_index(drop=True)\n",
    "print('Red Sox Hall of Fame Players:\\n',distinct_hof_players)\n"
   ]
  },
  {
   "cell_type": "markdown",
   "metadata": {},
   "source": [
    "2. <u>Count and List of Red Sox All Stars</u>"
   ]
  },
  {
   "cell_type": "code",
   "execution_count": null,
   "metadata": {},
   "outputs": [],
   "source": [
    "all_stars = red_sox_data[red_sox_data['All-Star'] == 'Yes']\n",
    "print(\"Total All Stars: \", all_stars['Name'].nunique(),'\\n')\n",
    "\n",
    "distinct_all_stars = all_stars['Name'].drop_duplicates().reset_index(drop=True)\n",
    "print('Red Sox All Stars:\\n',distinct_all_stars)"
   ]
  },
  {
   "cell_type": "markdown",
   "metadata": {},
   "source": [
    "3. <u>Count of Red Sox Players by Country</u>"
   ]
  },
  {
   "cell_type": "code",
   "execution_count": null,
   "metadata": {},
   "outputs": [],
   "source": [
    "countries = red_sox_data['Born'].unique()\n",
    "print(countries)\n",
    "\n",
    "countries_count = red_sox_data['Born'].value_counts()\n",
    "print(countries_count)"
   ]
  },
  {
   "cell_type": "markdown",
   "metadata": {},
   "source": [
    "4. <u>Average Age of Red Sox Player by Decade</u>"
   ]
  },
  {
   "cell_type": "code",
   "execution_count": null,
   "metadata": {},
   "outputs": [],
   "source": [
    "import math\n",
    "\n",
    "decades=(red_sox_data['Season']//10)*10\n",
    "\n",
    "avg_age_by_decade = red_sox_data.groupby(decades)['Age'].mean()\n",
    "avg_age_by_decade_rounded_up = avg_age_by_decade.apply(math.ceil)\n",
    "avg_age_by_decade_rounded_up_sorted = avg_age_by_decade_rounded_up.sort_values(ascending=False)\n",
    "\n",
    "\n",
    "print(avg_age_by_decade_rounded_up_sorted)"
   ]
  },
  {
   "cell_type": "markdown",
   "metadata": {},
   "source": [
    "### **Performance Trends**"
   ]
  },
  {
   "cell_type": "markdown",
   "metadata": {},
   "source": [
    "1. <u>Average WAR by Season</u>"
   ]
  },
  {
   "cell_type": "code",
   "execution_count": null,
   "metadata": {},
   "outputs": [],
   "source": [
    "red_sox_data['WAR'] = pd.to_numeric(red_sox_data['WAR'], errors='coerce')\n",
    "\n",
    "avg_war = red_sox_data.groupby('Season')['WAR'].mean()\n",
    "print('Average WAR per Season\\n',avg_war)"
   ]
  },
  {
   "cell_type": "markdown",
   "metadata": {},
   "source": [
    "### **Data Viz**"
   ]
  },
  {
   "cell_type": "code",
   "execution_count": null,
   "metadata": {},
   "outputs": [],
   "source": [
    "import os\n",
    "\n",
    "os.chdir('/Users/joeybiotti/Workspace/red_sox_notebook/notebooks')\n",
    "\n",
    "print(os.getcwd())\n",
    "\n",
    "%run ../scripts/visualization.py"
   ]
  }
 ],
 "metadata": {
  "kernelspec": {
   "display_name": ".venv",
   "language": "python",
   "name": "python3"
  },
  "language_info": {
   "codemirror_mode": {
    "name": "ipython",
    "version": 3
   },
   "file_extension": ".py",
   "mimetype": "text/x-python",
   "name": "python",
   "nbconvert_exporter": "python",
   "pygments_lexer": "ipython3",
   "version": "3.8.1"
  }
 },
 "nbformat": 4,
 "nbformat_minor": 2
}
