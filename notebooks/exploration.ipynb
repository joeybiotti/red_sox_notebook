{
 "cells": [
  {
   "cell_type": "code",
   "execution_count": null,
   "metadata": {},
   "outputs": [],
   "source": [
    "import pandas as pd \n",
    "\n",
    "red_sox_data = pd.read_csv('../data/raw/Boston_Red_Sox_Roster_Data.csv')\n",
    "\n",
    "print(red_sox_data.head())"
   ]
  },
  {
   "cell_type": "markdown",
   "metadata": {},
   "source": [
    "# Basic Data Points"
   ]
  },
  {
   "cell_type": "code",
   "execution_count": null,
   "metadata": {},
   "outputs": [],
   "source": [
    "# List of all Hall of Fame Players\n",
    "hof_players = red_sox_data[red_sox_data['HOF'] == 'Yes']\n",
    "print(hof_players)"
   ]
  },
  {
   "cell_type": "code",
   "execution_count": null,
   "metadata": {},
   "outputs": [],
   "source": [
    "# List of countried where Red Sox Players were born\n",
    "countries = red_sox_data['Born'].unique()\n",
    "print(countries)\n",
    "\n",
    "countries_count = red_sox_data['Born'].value_counts()\n",
    "print(countries_count)"
   ]
  },
  {
   "cell_type": "code",
   "execution_count": null,
   "metadata": {},
   "outputs": [],
   "source": [
    "# Average age of Red Sox Players by Decade\n",
    "import math\n",
    "\n",
    "decades=(red_sox_data['Season']//10)*10\n",
    "\n",
    "avg_age_by_decade = red_sox_data.groupby(decades)['Age'].mean()\n",
    "avg_age_by_decade_rounded_up = avg_age_by_decade.apply(math.ceil)\n",
    "avg_age_by_decade_rounded_up_sorted = avg_age_by_decade_rounded_up.sort_values(ascending=False)\n",
    "\n",
    "\n",
    "print(avg_age_by_decade_rounded_up_sorted)"
   ]
  },
  {
   "cell_type": "markdown",
   "metadata": {},
   "source": [
    "# Data Viz Scripts Below."
   ]
  },
  {
   "cell_type": "code",
   "execution_count": null,
   "metadata": {},
   "outputs": [],
   "source": [
    "import os\n",
    "\n",
    "os.chdir('/Users/joeybiotti/Workspace/red_sox_notebook/notebooks')\n",
    "\n",
    "print(os.getcwd())\n",
    "\n",
    "%run ../scripts/visualization.py"
   ]
  }
 ],
 "metadata": {
  "kernelspec": {
   "display_name": ".venv",
   "language": "python",
   "name": "python3"
  },
  "language_info": {
   "codemirror_mode": {
    "name": "ipython",
    "version": 3
   },
   "file_extension": ".py",
   "mimetype": "text/x-python",
   "name": "python",
   "nbconvert_exporter": "python",
   "pygments_lexer": "ipython3",
   "version": "3.8.1"
  }
 },
 "nbformat": 4,
 "nbformat_minor": 2
}
