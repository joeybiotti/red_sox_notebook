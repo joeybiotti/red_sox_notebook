{
 "cells": [
  {
   "cell_type": "code",
   "execution_count": null,
   "metadata": {},
   "outputs": [],
   "source": [
    "import pandas as pd \n",
    "\n",
    "red_sox_data = pd.read_csv('../data/raw/Boston_Red_Sox_Roster_Data.csv')\n",
    "\n",
    "print(red_sox_data.head())"
   ]
  },
  {
   "cell_type": "code",
   "execution_count": null,
   "metadata": {},
   "outputs": [],
   "source": [
    "# List of all Hall of Fame Players\n",
    "hof_players = red_sox_data[red_sox_data['HOF'] == 'Yes']\n",
    "print(hof_players)"
   ]
  },
  {
   "cell_type": "code",
   "execution_count": null,
   "metadata": {},
   "outputs": [],
   "source": [
    "# List of countried where Red Sox Players were born\n",
    "countries = red_sox_data['Born'].unique()\n",
    "print(countries)\n",
    "\n",
    "countries_count = red_sox_data['Born'].value_counts()\n",
    "print(countries_count)"
   ]
  },
  {
   "cell_type": "code",
   "execution_count": null,
   "metadata": {},
   "outputs": [],
   "source": [
    "# Average age of Red Sox Players by Decade\n",
    "import math\n",
    "\n",
    "decades=(red_sox_data['Season']//10)*10\n",
    "\n",
    "avg_age_by_decade = red_sox_data.groupby(decades)['Age'].mean()\n",
    "avg_age_by_decade_rounded_up = avg_age_by_decade.apply(math.ceil)\n",
    "avg_age_by_decade_rounded_up_sorted = avg_age_by_decade_rounded_up.sort_values(ascending=False)\n",
    "\n",
    "\n",
    "print(avg_age_by_decade_rounded_up_sorted)"
   ]
  },
  {
   "cell_type": "code",
   "execution_count": null,
   "metadata": {},
   "outputs": [],
   "source": [
    "# Histogram of Age Distribution of Red Sox Players\n",
    "import matplotlib.pyplot as plt\n",
    "\n",
    "red_sox_data['Age'].hist(bins=10, color='red', edgecolor='black')\n",
    "plt.title('Age Distribution of Red Sox Players')\n",
    "plt.xlabel('Age')\n",
    "plt.ylabel('Number of Players')\n",
    "\n",
    "plt.savefig('../output/age_distribution.png')"
   ]
  },
  {
   "cell_type": "code",
   "execution_count": null,
   "metadata": {},
   "outputs": [],
   "source": [
    "# Spread of Age of Red Sox Players\n",
    "import seaborn as sns\n",
    "\n",
    "sns.boxplot(y='Age', color='red', data=red_sox_data)\n",
    "plt.title('Age Spread of Red Sox Players')\n",
    "plt.ylabel('Age')\n",
    "\n",
    "plt.savefig('../output/age_spread.png')\n"
   ]
  }
 ],
 "metadata": {
  "kernelspec": {
   "display_name": ".venv",
   "language": "python",
   "name": "python3"
  },
  "language_info": {
   "codemirror_mode": {
    "name": "ipython",
    "version": 3
   },
   "file_extension": ".py",
   "mimetype": "text/x-python",
   "name": "python",
   "nbconvert_exporter": "python",
   "pygments_lexer": "ipython3",
   "version": "3.8.1"
  }
 },
 "nbformat": 4,
 "nbformat_minor": 2
}
