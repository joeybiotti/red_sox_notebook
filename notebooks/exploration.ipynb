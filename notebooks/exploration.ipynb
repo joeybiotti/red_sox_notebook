{
 "cells": [
  {
   "cell_type": "code",
   "execution_count": null,
   "metadata": {},
   "outputs": [],
   "source": [
    "import pandas as pd \n",
    "\n",
    "red_sox_data = pd.read_csv('../data/raw/Boston_Red_Sox_Roster_Data.csv')\n",
    "\n",
    "print(red_sox_data.head())"
   ]
  },
  {
   "cell_type": "markdown",
   "metadata": {},
   "source": [
    "# **Basic Data Points**"
   ]
  },
  {
   "cell_type": "markdown",
   "metadata": {},
   "source": [
    "1. <u>List of Red Sox Hall of Famers</u>"
   ]
  },
  {
   "cell_type": "code",
   "execution_count": null,
   "metadata": {},
   "outputs": [
    {
     "name": "stdout",
     "output_type": "stream",
     "text": [
      "Total Hall of Fame Players: 37 \n",
      "\n",
      "Red Sox Hall of Fame Players:\n",
      " 0         Tris Speaker\n",
      "1             Cy Young\n",
      "2         Jack Chesbro\n",
      "3         Harry Hooper\n",
      "4            Babe Ruth\n",
      "5         Herb Pennock\n",
      "6           Waite Hoyt\n",
      "7          Red Ruffing\n",
      "8         Rick Ferrell\n",
      "9          Lefty Grove\n",
      "10          Joe Cronin\n",
      "11         Jimmie Foxx\n",
      "12       Heinie Manush\n",
      "13         Bobby Doerr\n",
      "14        Ted Williams\n",
      "15          Al Simmons\n",
      "16        Lou Boudreau\n",
      "17         George Kell\n",
      "18    Carl Yastrzemski\n",
      "19       Dick Williams\n",
      "20        Carlton Fisk\n",
      "21       Luis Aparicio\n",
      "22      Orlando Cepeda\n",
      "23       Juan Marichal\n",
      "24            Jim Rice\n",
      "25      Fergie Jenkins\n",
      "26    Dennis Eckersley\n",
      "27          Tony Pérez\n",
      "28          Wade Boggs\n",
      "29          Tom Seaver\n",
      "30           Lee Smith\n",
      "31        Andre Dawson\n",
      "32      Pedro Martinez\n",
      "33    Rickey Henderson\n",
      "34         David Ortiz\n",
      "35         John Smoltz\n",
      "36       Adrian Beltré\n",
      "Name: Name, dtype: object\n",
      "\n",
      "Percentage of All-Stars by Season:\n",
      " Season\n",
      "1908         NaN\n",
      "1909         NaN\n",
      "1910         NaN\n",
      "1911         NaN\n",
      "1912         NaN\n",
      "          ...   \n",
      "2016    0.120000\n",
      "2017    0.061224\n",
      "2018    0.113636\n",
      "2019    0.063830\n",
      "2020         NaN\n",
      "Length: 113, dtype: float64\n"
     ]
    }
   ],
   "source": [
    "\n",
    "hof_players = red_sox_data[red_sox_data['HOF'] == 'Yes']\n",
    "print('Total Hall of Fame Players:', hof_players['Name'].nunique(),'\\n')\n",
    "\n",
    "distinct_hof_players = hof_players['Name'].drop_duplicates().reset_index(drop=True)\n",
    "print('Red Sox Hall of Fame Players:\\n',distinct_hof_players)\n"
   ]
  },
  {
   "cell_type": "markdown",
   "metadata": {},
   "source": [
    "2. <u>Count and List of Red Sox All Stars</u>"
   ]
  },
  {
   "cell_type": "code",
   "execution_count": null,
   "metadata": {},
   "outputs": [],
   "source": [
    "all_stars = red_sox_data[red_sox_data['All-Star'] == 'Yes']\n",
    "print(\"Total All Stars: \", all_stars['Name'].nunique(),'\\n')\n",
    "\n",
    "distinct_all_stars = all_stars['Name'].drop_duplicates().reset_index(drop=True)\n",
    "print('Red Sox All Stars:\\n',distinct_all_stars)"
   ]
  },
  {
   "cell_type": "markdown",
   "metadata": {},
   "source": [
    "3. <u>Count of Red Sox Players by Country</u>"
   ]
  },
  {
   "cell_type": "code",
   "execution_count": null,
   "metadata": {},
   "outputs": [],
   "source": [
    "countries = red_sox_data['Born'].unique()\n",
    "print(countries)\n",
    "\n",
    "countries_count = red_sox_data['Born'].value_counts()\n",
    "print(countries_count)"
   ]
  },
  {
   "cell_type": "markdown",
   "metadata": {},
   "source": [
    "4. <u>Average Age of Red Sox Player by Decade</u>"
   ]
  },
  {
   "cell_type": "code",
   "execution_count": null,
   "metadata": {},
   "outputs": [],
   "source": [
    "import math\n",
    "\n",
    "decades=(red_sox_data['Season']//10)*10\n",
    "\n",
    "avg_age_by_decade = red_sox_data.groupby(decades)['Age'].mean()\n",
    "avg_age_by_decade_rounded_up = avg_age_by_decade.apply(math.ceil)\n",
    "avg_age_by_decade_rounded_up_sorted = avg_age_by_decade_rounded_up.sort_values(ascending=False)\n",
    "\n",
    "\n",
    "print(avg_age_by_decade_rounded_up_sorted)"
   ]
  },
  {
   "cell_type": "markdown",
   "metadata": {},
   "source": [
    "5. <u>Performance Trends</u>"
   ]
  },
  {
   "cell_type": "code",
   "execution_count": 111,
   "metadata": {},
   "outputs": [
    {
     "name": "stdout",
     "output_type": "stream",
     "text": [
      "Average WAR per Season\n",
      " Season\n",
      "1908    0.925641\n",
      "1909    0.975000\n",
      "1910    1.357143\n",
      "1911    0.995349\n",
      "1912    2.048000\n",
      "          ...   \n",
      "2016    1.046000\n",
      "2017    0.848980\n",
      "2018    1.270455\n",
      "2019    0.923404\n",
      "2020    0.268085\n",
      "Name: WAR, Length: 113, dtype: float64\n"
     ]
    }
   ],
   "source": [
    "# Convert 'WAR' column to numeric, coercing errors to NaN\n",
    "red_sox_data['WAR'] = pd.to_numeric(red_sox_data['WAR'], errors='coerce')\n",
    "\n",
    "# Calculate the average WAR by decade\n",
    "avg_war = red_sox_data.groupby('Season')['WAR'].mean()\n",
    "print('Average WAR per Season\\n',avg_war)"
   ]
  },
  {
   "cell_type": "markdown",
   "metadata": {},
   "source": [
    "### **Data Viz**"
   ]
  },
  {
   "cell_type": "code",
   "execution_count": null,
   "metadata": {},
   "outputs": [],
   "source": [
    "import os\n",
    "\n",
    "os.chdir('/Users/joeybiotti/Workspace/red_sox_notebook/notebooks')\n",
    "\n",
    "print(os.getcwd())\n",
    "\n",
    "%run ../scripts/visualization.py"
   ]
  }
 ],
 "metadata": {
  "kernelspec": {
   "display_name": ".venv",
   "language": "python",
   "name": "python3"
  },
  "language_info": {
   "codemirror_mode": {
    "name": "ipython",
    "version": 3
   },
   "file_extension": ".py",
   "mimetype": "text/x-python",
   "name": "python",
   "nbconvert_exporter": "python",
   "pygments_lexer": "ipython3",
   "version": "3.8.1"
  }
 },
 "nbformat": 4,
 "nbformat_minor": 2
}
