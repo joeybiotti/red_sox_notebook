{
 "cells": [
  {
   "cell_type": "code",
   "execution_count": 3,
   "metadata": {},
   "outputs": [
    {
     "name": "stdout",
     "output_type": "stream",
     "text": [
      "   Season             Name  Age Born  B  T      Ht     Wt           DoB  Yrs  \\\n",
      "0    1908  Frank Arellanes   26   US  R  R   6' 0\"  180.0  Jan 28, 1882    0   \n",
      "1    1908    Jimmy Barrett   33   US  L  R   5' 7\"  170.0  Mar 28, 1875   10   \n",
      "2    1908       King Brady   27   US  R  R   6' 0\"  190.0  May 28, 1881    4   \n",
      "3    1908    Fred Burchell   28   US  R  L  5' 11\"  190.0  Jul 14, 1879    3   \n",
      "4    1908  Walter Carlisle   26   GB  B  R   5' 9\"  154.0   Jul 6, 1881    0   \n",
      "\n",
      "   ...  LF  CF  RF  OF  DH  PH  PR   WAR  All-Star  HOF  \n",
      "0  ...   0   0   0   0   -   2   0   1.3        No   No  \n",
      "1  ...   0   2   0   2   -   1   0  -0.1        No   No  \n",
      "2  ...   0   0   0   0   -   0   0   0.4        No   No  \n",
      "3  ...   0   0   0   0   -   1   0   0.1        No   No  \n",
      "4  ...   3   0   0   3   -   0   1  -0.1        No   No  \n",
      "\n",
      "[5 rows x 30 columns]\n"
     ]
    }
   ],
   "source": [
    "import pandas as pd \n",
    "\n",
    "red_sox_data = pd.read_csv('../data/cleaned/Boston_Red_Sox_Roster_Data_cleaned.csv')\n",
    "\n",
    "print(red_sox_data.head())"
   ]
  },
  {
   "cell_type": "markdown",
   "metadata": {},
   "source": [
    "# **Basic Data Points**"
   ]
  },
  {
   "cell_type": "markdown",
   "metadata": {},
   "source": [
    "1. <u>List of Red Sox Hall of Famers</u>"
   ]
  },
  {
   "cell_type": "code",
   "execution_count": 4,
   "metadata": {},
   "outputs": [
    {
     "name": "stdout",
     "output_type": "stream",
     "text": [
      "Total Hall of Fame Players: 37 \n",
      "\n",
      "Red Sox Hall of Fame Players:\n",
      " 0         Tris Speaker\n",
      "1             Cy Young\n",
      "2         Jack Chesbro\n",
      "3         Harry Hooper\n",
      "4            Babe Ruth\n",
      "5         Herb Pennock\n",
      "6           Waite Hoyt\n",
      "7          Red Ruffing\n",
      "8         Rick Ferrell\n",
      "9          Lefty Grove\n",
      "10          Joe Cronin\n",
      "11         Jimmie Foxx\n",
      "12       Heinie Manush\n",
      "13         Bobby Doerr\n",
      "14        Ted Williams\n",
      "15          Al Simmons\n",
      "16        Lou Boudreau\n",
      "17         George Kell\n",
      "18    Carl Yastrzemski\n",
      "19       Dick Williams\n",
      "20        Carlton Fisk\n",
      "21       Luis Aparicio\n",
      "22      Orlando Cepeda\n",
      "23       Juan Marichal\n",
      "24            Jim Rice\n",
      "25      Fergie Jenkins\n",
      "26    Dennis Eckersley\n",
      "27          Tony Pérez\n",
      "28          Wade Boggs\n",
      "29          Tom Seaver\n",
      "30           Lee Smith\n",
      "31        Andre Dawson\n",
      "32      Pedro Martinez\n",
      "33    Rickey Henderson\n",
      "34         David Ortiz\n",
      "35         John Smoltz\n",
      "36       Adrian Beltré\n",
      "Name: Name, dtype: object\n"
     ]
    }
   ],
   "source": [
    "\n",
    "hof_players = red_sox_data[red_sox_data['HOF'] == 'Yes']\n",
    "print('Total Hall of Fame Players:', hof_players['Name'].nunique(),'\\n')\n",
    "\n",
    "distinct_hof_players = hof_players['Name'].drop_duplicates().reset_index(drop=True)\n",
    "print('Red Sox Hall of Fame Players:\\n',distinct_hof_players)\n"
   ]
  },
  {
   "cell_type": "markdown",
   "metadata": {},
   "source": [
    "2. <u>Count and List of Red Sox All Stars</u>"
   ]
  },
  {
   "cell_type": "code",
   "execution_count": 5,
   "metadata": {},
   "outputs": [
    {
     "name": "stdout",
     "output_type": "stream",
     "text": [
      "Total All Stars:  117 \n",
      "\n",
      "Red Sox All Stars:\n",
      " 0        Rick Ferrell\n",
      "1          Joe Cronin\n",
      "2         Lefty Grove\n",
      "3         Jimmie Foxx\n",
      "4          Doc Cramer\n",
      "            ...      \n",
      "112     Craig Kimbrel\n",
      "113     Steven Wright\n",
      "114        Chris Sale\n",
      "115     J.D. Martinez\n",
      "116    Mitch Moreland\n",
      "Name: Name, Length: 117, dtype: object\n"
     ]
    }
   ],
   "source": [
    "all_stars = red_sox_data[red_sox_data['All-Star'] == 'Yes']\n",
    "print(\"Total All Stars: \", all_stars['Name'].nunique(),'\\n')\n",
    "\n",
    "distinct_all_stars = all_stars['Name'].drop_duplicates().reset_index(drop=True)\n",
    "print('Red Sox All Stars:\\n',distinct_all_stars)"
   ]
  },
  {
   "cell_type": "markdown",
   "metadata": {},
   "source": [
    "3. <u>Count of Red Sox Players by Country</u>"
   ]
  },
  {
   "cell_type": "code",
   "execution_count": 6,
   "metadata": {},
   "outputs": [
    {
     "name": "stdout",
     "output_type": "stream",
     "text": [
      "['US' 'GB' 'DK' 'DE' 'IE' 'CU' 'CA' 'SK' 'PL' 'MX' 'PR' 'VI' 'VE' 'PA'\n",
      " 'DO' 'NL' 'CO' 'KR' 'JP' 'NI' 'JM' 'TW' 'AW' 'SA' 'HK']\n",
      "Born\n",
      "US    3845\n",
      "DO     129\n",
      "PR      79\n",
      "VE      78\n",
      "CU      51\n",
      "CA      38\n",
      "JP      28\n",
      "MX      17\n",
      "AW       8\n",
      "DK       7\n",
      "PA       7\n",
      "KR       7\n",
      "TW       5\n",
      "CO       5\n",
      "NI       5\n",
      "SK       4\n",
      "DE       4\n",
      "VI       4\n",
      "JM       3\n",
      "SA       2\n",
      "IE       2\n",
      "NL       2\n",
      "GB       2\n",
      "PL       1\n",
      "HK       1\n",
      "Name: count, dtype: int64\n"
     ]
    }
   ],
   "source": [
    "countries = red_sox_data['Born'].unique()\n",
    "print(countries)\n",
    "\n",
    "countries_count = red_sox_data['Born'].value_counts()\n",
    "print(countries_count)"
   ]
  },
  {
   "cell_type": "markdown",
   "metadata": {},
   "source": [
    "4. <u>Average Age of Red Sox Player by Decade</u>"
   ]
  },
  {
   "cell_type": "code",
   "execution_count": 7,
   "metadata": {},
   "outputs": [
    {
     "name": "stdout",
     "output_type": "stream",
     "text": [
      "Season\n",
      "1940    30\n",
      "2000    30\n",
      "1950    29\n",
      "1990    29\n",
      "2010    29\n",
      "1920    28\n",
      "1930    28\n",
      "1960    28\n",
      "1970    28\n",
      "1980    28\n",
      "2020    28\n",
      "1900    27\n",
      "1910    27\n",
      "Name: Age, dtype: int64\n"
     ]
    }
   ],
   "source": [
    "import math\n",
    "\n",
    "decades=(red_sox_data['Season']//10)*10\n",
    "\n",
    "avg_age_by_decade = red_sox_data.groupby(decades)['Age'].mean()\n",
    "avg_age_by_decade_rounded_up = avg_age_by_decade.apply(math.ceil)\n",
    "avg_age_by_decade_rounded_up_sorted = avg_age_by_decade_rounded_up.sort_values(ascending=False)\n",
    "\n",
    "\n",
    "print(avg_age_by_decade_rounded_up_sorted)"
   ]
  },
  {
   "cell_type": "markdown",
   "metadata": {},
   "source": [
    "### **Performance Trends**"
   ]
  },
  {
   "cell_type": "markdown",
   "metadata": {},
   "source": [
    "1. <u>Average WAR by Season</u>"
   ]
  },
  {
   "cell_type": "code",
   "execution_count": 8,
   "metadata": {},
   "outputs": [
    {
     "name": "stdout",
     "output_type": "stream",
     "text": [
      "Average WAR per Season\n",
      " Season\n",
      "1908    0.925641\n",
      "1909    0.975000\n",
      "1910    1.357143\n",
      "1911    0.995349\n",
      "1912    2.048000\n",
      "          ...   \n",
      "2016    1.046000\n",
      "2017    0.848980\n",
      "2018    1.270455\n",
      "2019    0.923404\n",
      "2020    0.268085\n",
      "Name: WAR, Length: 113, dtype: float64\n"
     ]
    }
   ],
   "source": [
    "red_sox_data['WAR'] = pd.to_numeric(red_sox_data['WAR'], errors='coerce')\n",
    "\n",
    "avg_war = red_sox_data.groupby('Season')['WAR'].mean()\n",
    "print('Average WAR per Season\\n',avg_war)"
   ]
  },
  {
   "cell_type": "markdown",
   "metadata": {},
   "source": [
    "### **Data Viz**"
   ]
  },
  {
   "cell_type": "code",
   "execution_count": 11,
   "metadata": {},
   "outputs": [
    {
     "name": "stdout",
     "output_type": "stream",
     "text": [
      "/Users/joeybiotti/Workspace/red_sox_notebook/notebooks\n",
      "Visualization complete!\n"
     ]
    }
   ],
   "source": [
    "import os\n",
    "\n",
    "os.chdir('/Users/joeybiotti/Workspace/red_sox_notebook/notebooks')\n",
    "\n",
    "print(os.getcwd())\n",
    "\n",
    "%run ../scripts/visualization.py"
   ]
  },
  {
   "cell_type": "code",
   "execution_count": null,
   "metadata": {},
   "outputs": [],
   "source": [
    "\n",
    "%run ../scripts/visualization.py\n",
    "\n",
    "# Example function call from visualization.py\n",
    "# Assuming visualization.py has a function named `plot_all_stars`\n",
    "plot_all_stars(all_stars)"
   ]
  }
 ],
 "metadata": {
  "kernelspec": {
   "display_name": ".venv",
   "language": "python",
   "name": "python3"
  },
  "language_info": {
   "codemirror_mode": {
    "name": "ipython",
    "version": 3
   },
   "file_extension": ".py",
   "mimetype": "text/x-python",
   "name": "python",
   "nbconvert_exporter": "python",
   "pygments_lexer": "ipython3",
   "version": "3.8.1"
  }
 },
 "nbformat": 4,
 "nbformat_minor": 2
}
